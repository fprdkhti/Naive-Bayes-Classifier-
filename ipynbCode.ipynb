{
 "cells": [
  {
   "cell_type": "code",
   "execution_count": 108,
   "id": "da39a50e",
   "metadata": {},
   "outputs": [],
   "source": [
    "import pandas as pd\n",
    "import numpy as np\n",
    "from __future__ import unicode_literals\n",
    "from hazm import *\n",
    "import matplotlib.pyplot as plt"
   ]
  },
  {
   "cell_type": "code",
   "execution_count": 109,
   "id": "0486e485",
   "metadata": {},
   "outputs": [],
   "source": [
    "leisureHobbies = {}\n",
    "vehicles = {}\n",
    "forTheHome = {}\n",
    "personal = {}\n",
    "businesses = {}\n",
    "electronicDevices = {}\n",
    "classes = ['leisure-hobbies', 'vehicles', 'for-the-home', 'personal', 'electronic-devices', 'businesses']\n",
    "arr_freq = [leisureHobbies,vehicles, forTheHome, personal, electronicDevices , businesses]\n",
    "normalizer=Normalizer()\n",
    "word_tokenizer=WordTokenizer()\n",
    "lemmatizer=Lemmatizer()\n",
    "#stemmer=Stemmer()\n",
    "stop_set=set(stopwords_list()+['.','،','؛','[',']','{','}','(',')','?','!',':','\\\"','\\'','*','/','+','%','#','-','_','\\r\\n','\\n','«','»','۹','۸','۷','۶','۵','۴','۳','۲','۱','۰'])"
   ]
  },
  {
   "cell_type": "code",
   "execution_count": 110,
   "id": "3cc95e93",
   "metadata": {
    "scrolled": true
   },
   "outputs": [],
   "source": [
    "train = pd.read_csv('divar_train.csv',encoding='UTF-8')\n",
    "test = pd.read_csv('divar_test.csv',encoding='UTF-8')"
   ]
  },
  {
   "cell_type": "code",
   "execution_count": 111,
   "id": "fb7fe0cd",
   "metadata": {},
   "outputs": [],
   "source": [
    "def PreProccessText(text):\n",
    "    text=normalizer.normalize(text)\n",
    "    text=word_tokenizer.tokenize(text)\n",
    "    words=[lemmatizer.lemmatize(word) for word in text if not(word in stop_set)]\n",
    "#     words=[stemmer.stem(word) for word in text if not(word in stop_set)]\n",
    "    return words\n",
    "  \n",
    "\n",
    "def PreProccess(dataset):\n",
    "    for i in range(len(dataset)):\n",
    "        dataset['title'][i]=PreProccessText(dataset['title'][i])\n",
    "        dataset['description'][i]=PreProccessText(dataset['description'][i])\n",
    "    return dataset"
   ]
  },
  {
   "cell_type": "code",
   "execution_count": 112,
   "id": "1287d4c9",
   "metadata": {},
   "outputs": [
    {
     "data": {
      "text/html": [
       "<div>\n",
       "<style scoped>\n",
       "    .dataframe tbody tr th:only-of-type {\n",
       "        vertical-align: middle;\n",
       "    }\n",
       "\n",
       "    .dataframe tbody tr th {\n",
       "        vertical-align: top;\n",
       "    }\n",
       "\n",
       "    .dataframe thead th {\n",
       "        text-align: right;\n",
       "    }\n",
       "</style>\n",
       "<table border=\"1\" class=\"dataframe\">\n",
       "  <thead>\n",
       "    <tr style=\"text-align: right;\">\n",
       "      <th></th>\n",
       "      <th>title</th>\n",
       "      <th>categories</th>\n",
       "    </tr>\n",
       "  </thead>\n",
       "  <tbody>\n",
       "    <tr>\n",
       "      <th>0</th>\n",
       "      <td>[بلبل, خرما, عدد, بلبل, خرما, ماهه, جوجه, خودم...</td>\n",
       "      <td>leisure-hobbies</td>\n",
       "    </tr>\n",
       "    <tr>\n",
       "      <th>1</th>\n",
       "      <td>[عینک, اسکی, عینک, اسکی, دبل, لنز, مارک, یو, و...</td>\n",
       "      <td>leisure-hobbies</td>\n",
       "    </tr>\n",
       "    <tr>\n",
       "      <th>2</th>\n",
       "      <td>[تکیه, سر, تویوتا, پرادو, پارچه, سالم, تمیز]</td>\n",
       "      <td>vehicles</td>\n",
       "    </tr>\n",
       "    <tr>\n",
       "      <th>3</th>\n",
       "      <td>[مجسمه, کریستال, ۲۴, ٪, مجسمه, دکوری, کریستال,...</td>\n",
       "      <td>for-the-home</td>\n",
       "    </tr>\n",
       "    <tr>\n",
       "      <th>4</th>\n",
       "      <td>[کیف, ساک, تمیز]</td>\n",
       "      <td>personal</td>\n",
       "    </tr>\n",
       "    <tr>\n",
       "      <th>...</th>\n",
       "      <td>...</td>\n",
       "      <td>...</td>\n",
       "    </tr>\n",
       "    <tr>\n",
       "      <th>10195</th>\n",
       "      <td>[ان, هاش, ۸۵, چی, شرط, خشک, ۲۶۰, کار]</td>\n",
       "      <td>vehicles</td>\n",
       "    </tr>\n",
       "    <tr>\n",
       "      <th>10196</th>\n",
       "      <td>[۴۰۵, دوگانه, کارخانه, تمیز, فابریک, حلقه, لاس...</td>\n",
       "      <td>vehicles</td>\n",
       "    </tr>\n",
       "    <tr>\n",
       "      <th>10197</th>\n",
       "      <td>[بخاری, گازی, دودکش, پلار, بخاری, نو, تمیز, هس...</td>\n",
       "      <td>for-the-home</td>\n",
       "    </tr>\n",
       "    <tr>\n",
       "      <th>10198</th>\n",
       "      <td>[نر, کله, برنجی, چتر, سلام, دلیل, کمبود, واسبا...</td>\n",
       "      <td>leisure-hobbies</td>\n",
       "    </tr>\n",
       "    <tr>\n",
       "      <th>10199</th>\n",
       "      <td>[پراید, ۱۱۱, سفید, پراید, ۱۱۱, se, سفید, مدل, ...</td>\n",
       "      <td>vehicles</td>\n",
       "    </tr>\n",
       "  </tbody>\n",
       "</table>\n",
       "<p>10200 rows × 2 columns</p>\n",
       "</div>"
      ],
      "text/plain": [
       "                                                   title       categories\n",
       "0      [بلبل, خرما, عدد, بلبل, خرما, ماهه, جوجه, خودم...  leisure-hobbies\n",
       "1      [عینک, اسکی, عینک, اسکی, دبل, لنز, مارک, یو, و...  leisure-hobbies\n",
       "2           [تکیه, سر, تویوتا, پرادو, پارچه, سالم, تمیز]         vehicles\n",
       "3      [مجسمه, کریستال, ۲۴, ٪, مجسمه, دکوری, کریستال,...     for-the-home\n",
       "4                                       [کیف, ساک, تمیز]         personal\n",
       "...                                                  ...              ...\n",
       "10195              [ان, هاش, ۸۵, چی, شرط, خشک, ۲۶۰, کار]         vehicles\n",
       "10196  [۴۰۵, دوگانه, کارخانه, تمیز, فابریک, حلقه, لاس...         vehicles\n",
       "10197  [بخاری, گازی, دودکش, پلار, بخاری, نو, تمیز, هس...     for-the-home\n",
       "10198  [نر, کله, برنجی, چتر, سلام, دلیل, کمبود, واسبا...  leisure-hobbies\n",
       "10199  [پراید, ۱۱۱, سفید, پراید, ۱۱۱, se, سفید, مدل, ...         vehicles\n",
       "\n",
       "[10200 rows x 2 columns]"
      ]
     },
     "execution_count": 112,
     "metadata": {},
     "output_type": "execute_result"
    }
   ],
   "source": [
    "train=PreProccess(train)\n",
    "train[\"title\"] = train[\"title\"] + train[\"description\"]\n",
    "del train['description']\n",
    "train"
   ]
  },
  {
   "cell_type": "code",
   "execution_count": 113,
   "id": "37979b02",
   "metadata": {},
   "outputs": [
    {
     "data": {
      "text/html": [
       "<div>\n",
       "<style scoped>\n",
       "    .dataframe tbody tr th:only-of-type {\n",
       "        vertical-align: middle;\n",
       "    }\n",
       "\n",
       "    .dataframe tbody tr th {\n",
       "        vertical-align: top;\n",
       "    }\n",
       "\n",
       "    .dataframe thead th {\n",
       "        text-align: right;\n",
       "    }\n",
       "</style>\n",
       "<table border=\"1\" class=\"dataframe\">\n",
       "  <thead>\n",
       "    <tr style=\"text-align: right;\">\n",
       "      <th></th>\n",
       "      <th>title</th>\n",
       "      <th>categories</th>\n",
       "    </tr>\n",
       "  </thead>\n",
       "  <tbody>\n",
       "    <tr>\n",
       "      <th>0</th>\n",
       "      <td>[کیف, مجلس, نو, کیف, مجلس, نو, نو]</td>\n",
       "      <td>personal</td>\n",
       "    </tr>\n",
       "    <tr>\n",
       "      <th>1</th>\n",
       "      <td>[دیوار, کوب, نمد, تزیین, جهاز, عروس]</td>\n",
       "      <td>for-the-home</td>\n",
       "    </tr>\n",
       "    <tr>\n",
       "      <th>2</th>\n",
       "      <td>[تیکه, تمیز, سالم, کشو, مخفی, شیک]</td>\n",
       "      <td>for-the-home</td>\n",
       "    </tr>\n",
       "    <tr>\n",
       "      <th>3</th>\n",
       "      <td>[مودم, سلام, مودم, سالم, وسایل, دیگه, ب, کاشت#...</td>\n",
       "      <td>electronic-devices</td>\n",
       "    </tr>\n",
       "    <tr>\n",
       "      <th>4</th>\n",
       "      <td>[۱۸, عددبوقلمون, قیمت, عمده, سلام, تعدای, بوقل...</td>\n",
       "      <td>leisure-hobbies</td>\n",
       "    </tr>\n",
       "    <tr>\n",
       "      <th>...</th>\n",
       "      <td>...</td>\n",
       "      <td>...</td>\n",
       "    </tr>\n",
       "    <tr>\n",
       "      <th>1795</th>\n",
       "      <td>[باسکول, ۳۰۰, کیلویی, سالمه, سالمه, بشرط, قیمت...</td>\n",
       "      <td>businesses</td>\n",
       "    </tr>\n",
       "    <tr>\n",
       "      <th>1796</th>\n",
       "      <td>[میز, مدیریت, کنفرانس, میز, مدیریت, کنفرانس, ت...</td>\n",
       "      <td>businesses</td>\n",
       "    </tr>\n",
       "    <tr>\n",
       "      <th>1797</th>\n",
       "      <td>[باند, aiwa, سالم, اسپیکر]</td>\n",
       "      <td>electronic-devices</td>\n",
       "    </tr>\n",
       "    <tr>\n",
       "      <th>1798</th>\n",
       "      <td>[عروس, هلند, مولد, عروس, هلند, جفت, ویک, تک, ی...</td>\n",
       "      <td>leisure-hobbies</td>\n",
       "    </tr>\n",
       "    <tr>\n",
       "      <th>1799</th>\n",
       "      <td>[ست, دستباف, دخترانه, یکساله, نو, ست, دخترانه,...</td>\n",
       "      <td>personal</td>\n",
       "    </tr>\n",
       "  </tbody>\n",
       "</table>\n",
       "<p>1800 rows × 2 columns</p>\n",
       "</div>"
      ],
      "text/plain": [
       "                                                  title          categories\n",
       "0                    [کیف, مجلس, نو, کیف, مجلس, نو, نو]            personal\n",
       "1                  [دیوار, کوب, نمد, تزیین, جهاز, عروس]        for-the-home\n",
       "2                    [تیکه, تمیز, سالم, کشو, مخفی, شیک]        for-the-home\n",
       "3     [مودم, سلام, مودم, سالم, وسایل, دیگه, ب, کاشت#...  electronic-devices\n",
       "4     [۱۸, عددبوقلمون, قیمت, عمده, سلام, تعدای, بوقل...     leisure-hobbies\n",
       "...                                                 ...                 ...\n",
       "1795  [باسکول, ۳۰۰, کیلویی, سالمه, سالمه, بشرط, قیمت...          businesses\n",
       "1796  [میز, مدیریت, کنفرانس, میز, مدیریت, کنفرانس, ت...          businesses\n",
       "1797                         [باند, aiwa, سالم, اسپیکر]  electronic-devices\n",
       "1798  [عروس, هلند, مولد, عروس, هلند, جفت, ویک, تک, ی...     leisure-hobbies\n",
       "1799  [ست, دستباف, دخترانه, یکساله, نو, ست, دخترانه,...            personal\n",
       "\n",
       "[1800 rows x 2 columns]"
      ]
     },
     "execution_count": 113,
     "metadata": {},
     "output_type": "execute_result"
    }
   ],
   "source": [
    "test_a = PreProccess(test)\n",
    "test[\"title\"] = test[\"title\"] + test[\"description\"]\n",
    "del test_a['description']\n",
    "test_a"
   ]
  },
  {
   "cell_type": "code",
   "execution_count": 114,
   "id": "36754928",
   "metadata": {},
   "outputs": [],
   "source": [
    "def AddFrequencyOfWords(words,freq_dict):\n",
    "    global D\n",
    "    for word in words:\n",
    "        if not(word in freq_dict):\n",
    "            freq_dict[word] = 1\n",
    "        else:\n",
    "            freq_dict[word] += 1\n",
    "    return freq_dict\n",
    "\n",
    "def FrequencyCalculator(train):\n",
    "    for i in range(len(arr_freq)):\n",
    "        for rec_com_title in train.loc[train['categories']==classes[i],'title']:\n",
    "            arr_freq[i]=AddFrequencyOfWords(rec_com_title, arr_freq[i])"
   ]
  },
  {
   "cell_type": "code",
   "execution_count": 115,
   "id": "59091853",
   "metadata": {},
   "outputs": [],
   "source": [
    "def calcProbability(freq, totalWords):\n",
    "    return freq / totalWords\n",
    "\n",
    "\n",
    "def AdditiveSmoothingProbability(freq, totalWords, totalUniqWords):\n",
    "    return (freq + 1)/(totalUniqWords + totalWords + 1)\n",
    "\n",
    "def Classify(test):\n",
    "    probb = [0] * len(arr_freq)\n",
    "    for i in range(len(test)):\n",
    "        for f in range(len(arr_freq)):\n",
    "            totalWords = 0\n",
    "            for j in arr_freq[f]:\n",
    "                totalWords += arr_freq[f][j]\n",
    "            prob = 1\n",
    "            for w in ['title']:\n",
    "                for word in test[w][i]:\n",
    "                    count = 0\n",
    "                    if word in arr_freq[f]:\n",
    "                        count = arr_freq[f][word]\n",
    "                    prob = prob * calcProbability(count, totalWords)\n",
    "            probb[f] = prob\n",
    "        index = probb.index(max(probb))\n",
    "        predicted_categories.append(classes[index])"
   ]
  },
  {
   "cell_type": "code",
   "execution_count": 116,
   "id": "acbf750d",
   "metadata": {},
   "outputs": [],
   "source": [
    "predicted_categories=[]\n",
    "predicted_categories_with_add = []\n",
    "FrequencyCalculator(train)"
   ]
  },
  {
   "cell_type": "code",
   "execution_count": 117,
   "id": "a7dcf44f",
   "metadata": {},
   "outputs": [
    {
     "data": {
      "image/png": "[encoded data removed]",
      "text/plain": [
       "<Figure size 720x360 with 1 Axes>"
      ]
     },
     "metadata": {
      "needs_background": "light"
     },
     "output_type": "display_data"
    },
    {
     "data": {
      "image/png": "[encoded data removed]",
      "text/plain": [
       "<Figure size 720x360 with 1 Axes>"
      ]
     },
     "metadata": {
      "needs_background": "light"
     },
     "output_type": "display_data"
    },
    {
     "data": {
      "image/png": "[encoded data removed]",
      "text/plain": [
       "<Figure size 720x360 with 1 Axes>"
      ]
     },
     "metadata": {
      "needs_background": "light"
     },
     "output_type": "display_data"
    },
    {
     "data": {
      "image/png": "[encoded data removed]",
      "text/plain": [
       "<Figure size 720x360 with 1 Axes>"
      ]
     },
     "metadata": {
      "needs_background": "light"
     },
     "output_type": "display_data"
    },
    {
     "data": {
      "image/png": "[encoded data removed]",
      "text/plain": [
       "<Figure size 720x360 with 1 Axes>"
      ]
     },
     "metadata": {
      "needs_background": "light"
     },
     "output_type": "display_data"
    },
    {
     "data": {
      "image/png": "[encoded data removed]",
      "text/plain": [
       "<Figure size 720x360 with 1 Axes>"
      ]
     },
     "metadata": {
      "needs_background": "light"
     },
     "output_type": "display_data"
    }
   ],
   "source": [
    "def barPlot(index, freq):\n",
    "    sort_orders = sorted(freq.items(), key=lambda x: x[1], reverse=True)\n",
    "    top = sort_orders[0:5]\n",
    "    courses = []\n",
    "    values = []\n",
    "    for item in top:\n",
    "        courses.append(item[0])\n",
    "        values.append(item[1])\n",
    "    \n",
    "    plt.figure(figsize = (10, 5))\n",
    "    plt.bar(courses, values, color ='purple', width = 0.4)\n",
    "\n",
    "    plt.xlabel(\"word\")\n",
    "    plt.ylabel(\"No. of words repeated\")\n",
    "    plt.title(\"Most frequented word of \"+classes[index])\n",
    "    plt.show()\n",
    "\n",
    "for f in range(len(arr_freq)):\n",
    "    barPlot(f, arr_freq[f])"
   ]
  },
  {
   "cell_type": "code",
   "execution_count": 118,
   "id": "d54dee48",
   "metadata": {},
   "outputs": [],
   "source": [
    "def Evaluate(test):\n",
    "    correct_detected=0\n",
    "    total=len(test)\n",
    "    Precision = [0]* len(classes)\n",
    "    Recall = [0]* len(classes)\n",
    "    F1 = [0]* len(classes)\n",
    "    correct_detected_class = [0]* len(classes)\n",
    "    all_detected_class = [0]* len(classes)\n",
    "    total_class = [0]* len(classes)\n",
    "\n",
    "    counter=0\n",
    "    X=[]\n",
    "\n",
    "    for description_cursor in range(len(test)):\n",
    "        if test['categories'][description_cursor] == test['predicted categories'][description_cursor]:\n",
    "            correct_detected+=1\n",
    "        elif counter<5:\n",
    "            counter+=1\n",
    "            X.append(description_cursor)\n",
    "        for i in range(len(classes)):\n",
    "            if test['predicted categories'][description_cursor]==classes[i] and test['categories'][description_cursor] == classes[i]:\n",
    "                correct_detected_class[i]+=1\n",
    "            if test['predicted categories'][description_cursor] == classes[i]:\n",
    "                all_detected_class[i]+=1\n",
    "            if test['categories'][description_cursor] == classes[i]:\n",
    "                total_class[i]+=1\n",
    "            \n",
    "    Accuracy = correct_detected / total * 100\n",
    "    macroF1 = 0\n",
    "    for i in range(len(classes)):\n",
    "        Precision[i] = correct_detected_class[i]/all_detected_class[i]*100\n",
    "        Recall[i] = correct_detected_class[i] / total_class[i]*100\n",
    "        F1[i]=2*Precision[i]*Recall[i]/(Precision[i]+Recall[i])\n",
    "        macroF1 += F1[i]\n",
    "        print(classes[i], ':    Precision=', Precision[i],'   Recall=',Recall[i],'   F1=',F1[i])\n",
    "    print(\"Accuracy=\", Accuracy)\n",
    "    print(\"macroF1=\", macroF1/6)\n",
    "    print(\"weightedF1\", macroF1/6)\n",
    "    return X"
   ]
  },
  {
   "cell_type": "code",
   "execution_count": 119,
   "id": "d18a14ab",
   "metadata": {},
   "outputs": [
    {
     "name": "stdout",
     "output_type": "stream",
     "text": [
      "leisure-hobbies :    Precision= 22.681215900233827    Recall= 97.0    F1= 36.765634870499056\n",
      "vehicles :    Precision= 93.47826086956522    Recall= 28.666666666666668    F1= 43.87755102040816\n",
      "for-the-home :    Precision= 88.63636363636364    Recall= 39.0    F1= 54.166666666666664\n",
      "personal :    Precision= 90.2654867256637    Recall= 34.0    F1= 49.39467312348668\n",
      "electronic-devices :    Precision= 85.9375    Recall= 18.333333333333332    F1= 30.21978021978022\n",
      "businesses :    Precision= 73.27586206896551    Recall= 28.333333333333332    F1= 40.86538461538461\n",
      "Accuracy= 40.88888888888889\n",
      "macroF1= 42.548281752704234\n",
      "weightedF1 42.548281752704234\n"
     ]
    }
   ],
   "source": [
    "Classify(test_a)\n",
    "test_a['predicted categories'] = predicted_categories\n",
    "X = Evaluate(test_a)"
   ]
  },
  {
   "cell_type": "code",
   "execution_count": null,
   "id": "dfe1de48",
   "metadata": {},
   "outputs": [],
   "source": [
    "def ClassifyWithAdditive(test):\n",
    "    probb = [0] * len(arr_freq)\n",
    "    for i in range(len(test)):\n",
    "        for f in range(len(arr_freq)):\n",
    "            totalWords = 0\n",
    "            for j in arr_freq[f]:\n",
    "                totalWords += arr_freq[f][j]\n",
    "            prob = 1\n",
    "            for w in ['title']:\n",
    "                for word in test[w][i]:\n",
    "                    count = 0\n",
    "                    if word in arr_freq[f]:\n",
    "                        count = arr_freq[f][word]\n",
    "                    new_prob = prob * calcProbability(count, totalWords)\n",
    "                    if new_prob == 0:\n",
    "                        prob = prob * AdditiveSmoothingProbability(count, totalWords, len(arr_freq[f]))\n",
    "                    else:\n",
    "                        prob = new_prob\n",
    "            probb[f] = prob\n",
    "        index = probb.index(max(probb))\n",
    "        predicted_categories_with_add.append(classes[index])"
   ]
  },
  {
   "cell_type": "code",
   "execution_count": 120,
   "id": "d0d14b8c",
   "metadata": {},
   "outputs": [],
   "source": [
    "def Evaluatewithadd(test):\n",
    "    correct_detected=0\n",
    "    total=len(test)\n",
    "    Precision = [0]* len(classes)\n",
    "    Recall = [0]* len(classes)\n",
    "    F1 = [0]* len(classes)\n",
    "    correct_detected_class = [0]* len(classes)\n",
    "    all_detected_class = [0]* len(classes)\n",
    "    total_class = [0]* len(classes)\n",
    "\n",
    "    counter=0\n",
    "    X=[]\n",
    "\n",
    "    for description_cursor in range(len(test)):\n",
    "        if test['categories'][description_cursor] == test['predicted categories with add'][description_cursor]:\n",
    "            correct_detected+=1\n",
    "        elif counter<5:\n",
    "            counter+=1\n",
    "            X.append(description_cursor)\n",
    "        for i in range(len(classes)):\n",
    "            if test['predicted categories with add'][description_cursor]==classes[i] and test['categories'][description_cursor] == classes[i]:\n",
    "                correct_detected_class[i]+=1\n",
    "            if test['predicted categories with add'][description_cursor] == classes[i]:\n",
    "                all_detected_class[i]+=1\n",
    "            if test['categories'][description_cursor] == classes[i]:\n",
    "                total_class[i]+=1\n",
    "            \n",
    "    Accuracy = correct_detected / total * 100\n",
    "    macroF1 = 0\n",
    "    for i in range(len(classes)):\n",
    "        Precision[i] = correct_detected_class[i]/all_detected_class[i]*100\n",
    "        Recall[i] = correct_detected_class[i] / total_class[i]*100\n",
    "        F1[i]=2*Precision[i]*Recall[i]/(Precision[i]+Recall[i])\n",
    "        macroF1 += F1[i]\n",
    "        print(classes[i], ':    Precision=', Precision[i],'   Recall=',Recall[i],'   F1=',F1[i])\n",
    "    print(\"Accuracy=\", Accuracy)\n",
    "    print(\"macroF1=\", macroF1/6)\n",
    "    print(\"weightedF1\", macroF1/6)\n",
    "    return X"
   ]
  },
  {
   "cell_type": "code",
   "execution_count": 121,
   "id": "376b4997",
   "metadata": {},
   "outputs": [
    {
     "name": "stdout",
     "output_type": "stream",
     "text": [
      "leisure-hobbies :    Precision= 91.14391143911439    Recall= 82.33333333333334    F1= 86.51488616462348\n",
      "vehicles :    Precision= 95.01779359430606    Recall= 89.0    F1= 91.91049913941481\n",
      "for-the-home :    Precision= 78.6743515850144    Recall= 91.0    F1= 84.38948995363215\n",
      "personal :    Precision= 85.80645161290322    Recall= 88.66666666666667    F1= 87.21311475409836\n",
      "electronic-devices :    Precision= 90.93959731543623    Recall= 90.33333333333333    F1= 90.63545150501672\n",
      "businesses :    Precision= 79.5221843003413    Recall= 77.66666666666666    F1= 78.58347386172005\n",
      "Accuracy= 86.5\n",
      "macroF1= 86.54115256308425\n",
      "weightedF1 86.54115256308425\n"
     ]
    }
   ],
   "source": [
    "ClassifyWithAdditive(test_a)\n",
    "test_a['predicted categories with add'] = predicted_categories_with_add\n",
    "X = Evaluatewithadd(test_a)"
   ]
  },
  {
   "cell_type": "code",
   "execution_count": 124,
   "id": "dda9619a",
   "metadata": {},
   "outputs": [
    {
     "name": "stdout",
     "output_type": "stream",
     "text": [
      "16 :   ['سیپوراکس', 'سیپوراکس', 'میکرو', 'مک', 'جی', 'ال', 'سرامیک', 'سرا', 'کاهنده', 'نیترات', 'نیتریت', 'اکواریوم', 'درجه'] leisure-hobbies for-the-home \n",
      "\n",
      "\n",
      "\n",
      "28 :   ['موتور', 'تزیین', 'جنس', 'اهن', 'کار', 'دست', 'عرضه', 'صورت', 'عمده', 'تک'] for-the-home businesses \n",
      "\n",
      "\n",
      "\n",
      "37 :   ['۹۰', 'عدد', 'بشقاب', 'پیتزا', 'تک', 'نفره', 'قیمت', 'هرعدد', '۴۰۰۰', 'بشقاب', 'پیتزا', 'نفره', 'عدد', '۴۰۰۰', 'باتشکراز', 'دیوار'] businesses for-the-home \n",
      "\n",
      "\n",
      "\n",
      "44 :   ['اسکیت', 'حرفه\\u200cای', 'رولربلید', 'درحدنو', 'اسکیت', 'RollerBlade', '۸۰', 'mm', '\\u200c', 'Bio', 'Dynamic', 'سایز', '۴۱', '۴۳', 'درحد', 'نو'] leisure-hobbies personal \n",
      "\n",
      "\n",
      "\n",
      "49 :   ['اچارشلاقی', 'HEYCOالمان', 'اصل', 'المان', 'سایز', '۱/۵', 'مقاوم'] businesses personal \n",
      "\n",
      "\n",
      "\n"
     ]
    }
   ],
   "source": [
    "for i in X:\n",
    "  print(i, \":  \" ,test_a['title'][i], test_a['categories'][i], test_a['predicted categories with add'][i],\"\\n\\n\\n\")"
   ]
  }
 ],
 "metadata": {
  "hide_input": false,
  "kernelspec": {
   "display_name": "Python 3",
   "language": "python",
   "name": "python3"
  },
  "language_info": {
   "codemirror_mode": {
    "name": "ipython",
    "version": 3
   },
   "file_extension": ".py",
   "mimetype": "text/x-python",
   "name": "python",
   "nbconvert_exporter": "python",
   "pygments_lexer": "ipython3",
   "version": "3.8.8"
  }
 },
 "nbformat": 4,
 "nbformat_minor": 5
}
